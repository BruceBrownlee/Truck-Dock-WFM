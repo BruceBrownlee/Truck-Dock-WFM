{
 "cells": [
  {
   "cell_type": "markdown",
   "metadata": {},
   "source": [
    "f# Ted Bakes Cakes - Labor Hours Forecaster"
   ]
  },
  {
   "cell_type": "code",
   "execution_count": 4,
   "metadata": {},
   "outputs": [],
   "source": [
    "# Python Basics\n",
    "import yaml\n",
    "import logging\n",
    "import sys\n",
    "import os\n",
    "from datetime import datetime\n",
    "import pytz\n",
    "\n",
    "# Pandas\n",
    "import numpy as np\n",
    "import pandas as pd\n",
    "pd.set_option('display.max_columns', 20)  # 20 columns\n",
    "pd.set_option('display.width', 120)  # 120 characters\n",
    "pd.set_option('display.max_rows', 500)\n",
    "from pandas import ExcelWriter\n",
    "from pandas import ExcelFile\n",
    "\n",
    "# Sklearn Preprocessing\n",
    "from sklearn import preprocessing\n",
    "from sklearn.model_selection import train_test_split\n",
    "from sklearn.datasets import make_regression # for testing only\n",
    "\n",
    "# Sklearn Model Selection\n",
    "from sklearn.model_selection import cross_val_score\n",
    "\n",
    "# Sklearn Classifiers\n",
    "from sklearn.linear_model import LinearRegression\n",
    "from sklearn.neighbors import KNeighborsClassifier\n",
    "from sklearn.tree import DecisionTreeClassifier\n",
    "from sklearn.linear_model import LogisticRegression\n",
    "from sklearn.naive_bayes import GaussianNB\n",
    "from sklearn.linear_model import ElasticNet\n",
    "from sklearn.svm import SVC\n",
    "from sklearn.ensemble import VotingClassifier\n",
    "from sklearn.ensemble import GradientBoostingClassifier\n",
    "from sklearn.ensemble import AdaBoostClassifier\n",
    "\n",
    "# Sklearn metrics\n",
    "from sklearn import metrics\n",
    "from sklearn.metrics import f1_score\n",
    "from sklearn.metrics import accuracy_score\n",
    "from sklearn.metrics import classification_report\n",
    "from sklearn.metrics import confusion_matrix\n",
    "from sklearn.metrics import roc_curve\n",
    "from sklearn.metrics import auc\n",
    "from sklearn.metrics import average_precision_score\n",
    "from sklearn.metrics import precision_recall_curve\n",
    "from sklearn.metrics import plot_precision_recall_curve\n",
    "from sklearn.metrics import r2_score,mean_squared_error\n",
    "\n",
    "# mlxtend - for min_max scaling\n",
    "from mlxtend.preprocessing import minmax_scaling\n",
    "from mlxtend.classifier import StackingClassifier\n",
    "\n",
    "# Statsmodels\n",
    "import statsmodels.api as sm # For Linear Regression\n",
    "#import statsmodels.tools.eval_measures\n",
    "#from statsmodels.tools.eval_measures import meanabs\n",
    "from statsmodels.tools.eval_measures import meanabs\n",
    "\n",
    "# Plotting modules\n",
    "import matplotlib.pyplot as plt\n",
    "%matplotlib inline\n",
    "import seaborn as sns\n",
    "sns.set(style=\"white\")\n",
    "sns.set(style=\"whitegrid\", color_codes=True)\n",
    "plt.rc(\"font\", size=14)\n",
    "\n",
    "# Contingency Table|\n",
    "from scipy.stats import fisher_exact\n",
    "\n",
    "# Missing data plotting\n",
    "import missingno as mgno\n",
    "\n"
   ]
  },
  {
   "cell_type": "code",
   "execution_count": 5,
   "metadata": {},
   "outputs": [],
   "source": [
    "def read_logbook(logbook_file_name, data_sheet_name):\n",
    "    \"\"\"\n",
    "    Read a list of logbook entries from Ted's logbook\n",
    "    Fields are Type1, Type2, Type3, Type4, TotalCakes, TotalHours\n",
    "    Type1, Type2, Type3, Type4, TotalCakes are integer values\n",
    "    TotalHours is a real value\n",
    "    We are using Type1, Type2, Type3, Type4 to predict TotalHours\n",
    "    We read the values here into a Pandas dataframe object.\n",
    "    \"\"\"\n",
    "    logging.info(str(datetime.now()) + ' read_logbook: ' + str(logbook_file_name) + 'sheet: ' + data_tab_name)\n",
    "    print(f'read_logbook opening logbook: {logbook_file_name} sheet: {data_tab_name}')\n",
    "\n",
    "    try:\n",
    "        logbook = pd.read_excel(logbook_file_name, sheet_name=data_tab_name, header=0, converters={'Type1': float,\n",
    "                                          'Type2': float, 'Type3': float, 'Type4': float,\n",
    "                                          'TotalCakes': float,'TotalHours': float})\n",
    "    \n",
    "    except Exception as e:\n",
    "        print(f'Exception is {e}')\n",
    "        print(\"Problem during logbook read from Excel, or just after\")\n",
    "        print(f'Check logbook file name and tab name selected.')\n",
    "        logging.info(str(datetime.now()) + ' read_logbook stopping on exception: ' + e)\n",
    "        raise SystemExit\n",
    "\n",
    "    else:\n",
    "        return logbook"
   ]
  },
  {
   "cell_type": "code",
   "execution_count": 6,
   "metadata": {},
   "outputs": [],
   "source": [
    "def colinearity_check(feature_names, target_df):\n",
    "    \n",
    "    \"\"\"\n",
    "    Check for Colinearity\n",
    "    Look for strong correlations between features using Pearson correlation\n",
    "    \n",
    "    \"\"\"\n",
    "    \n",
    "    feature_corrs = target_df[feature_names].corr()\n",
    "    fig, ax = plt.subplots(figsize=(14,14)) \n",
    "    sns.heatmap(feature_corrs, vmin=-1, cmap='coolwarm', annot=False, ax=ax, linewidth=0.05)\n",
    "    plt.show()\n",
    "    \n",
    "    return feature_corrs"
   ]
  },
  {
   "cell_type": "code",
   "execution_count": 7,
   "metadata": {},
   "outputs": [],
   "source": [
    "# Open and Read Config File\n",
    "DEBUG = 1\n",
    "config_file_name = 'cakes.yaml'\n",
    "try:\n",
    "    with open(config_file_name, 'r') as config_file:\n",
    "        config = yaml.safe_load(config_file)\n",
    "        config_file.close()\n",
    "        DEBUG = config['Run_Time']['DEBUG']\n",
    "\n",
    "except Exception as e:\n",
    "    print('cakes exiting - cannot read config file', file=sys.stderr)\n",
    "    print('Error is:', e, file=sys.stderr)\n",
    "    sys.exit(\"Config file not found\")\n",
    "\n",
    "# Set tab names\n",
    "logbook_file_name = config['File_Locations']['logbook']\n",
    "data_tab_name = config['Tabs']['data_tab']"
   ]
  },
  {
   "cell_type": "code",
   "execution_count": 8,
   "metadata": {},
   "outputs": [
    {
     "name": "stdout",
     "output_type": "stream",
     "text": [
      "/Users/brucebrownlee/Dev/Code/Github/Ted-Bakes-Cakes-Python/logbook.xlsx RawData\n"
     ]
    }
   ],
   "source": [
    "print(logbook_file_name, data_tab_name)"
   ]
  },
  {
   "cell_type": "markdown",
   "metadata": {},
   "source": [
    "## Read the Data"
   ]
  },
  {
   "cell_type": "code",
   "execution_count": 9,
   "metadata": {
    "pycharm": {
     "name": "#%%\n"
    }
   },
   "outputs": [
    {
     "name": "stdout",
     "output_type": "stream",
     "text": [
      "read_logbook opening logbook: /Users/brucebrownlee/Dev/Code/Github/Ted-Bakes-Cakes-Python/logbook.xlsx sheet: RawData\n"
     ]
    }
   ],
   "source": [
    "logbook = read_logbook(logbook_file_name, data_tab_name)"
   ]
  },
  {
   "cell_type": "markdown",
   "metadata": {},
   "source": [
    "## Add a Term to Let Model Estimate Bake Oven Conflict Effects"
   ]
  },
  {
   "cell_type": "code",
   "execution_count": 10,
   "metadata": {
    "pycharm": {
     "name": "#%%\n"
    }
   },
   "outputs": [],
   "source": [
    "# Add Baking Conflict Delay Term\n",
    "logbook['Delay'] = logbook[['Type 2', 'Type 3']].min(axis=1)"
   ]
  },
  {
   "cell_type": "code",
   "execution_count": 11,
   "metadata": {},
   "outputs": [],
   "source": [
    "# Define Feature Columns\n",
    "\n",
    "feature_names = ['Type 1', 'Type 2', 'Type 3', 'Type 4', 'Delay']"
   ]
  },
  {
   "cell_type": "markdown",
   "metadata": {},
   "source": [
    "## Examine the Data"
   ]
  },
  {
   "cell_type": "code",
   "execution_count": 13,
   "metadata": {
    "pycharm": {
     "name": "#%%\n"
    }
   },
   "outputs": [
    {
     "data": {
      "text/html": [
       "<div>\n",
       "<style scoped>\n",
       "    .dataframe tbody tr th:only-of-type {\n",
       "        vertical-align: middle;\n",
       "    }\n",
       "\n",
       "    .dataframe tbody tr th {\n",
       "        vertical-align: top;\n",
       "    }\n",
       "\n",
       "    .dataframe thead th {\n",
       "        text-align: right;\n",
       "    }\n",
       "</style>\n",
       "<table border=\"1\" class=\"dataframe\">\n",
       "  <thead>\n",
       "    <tr style=\"text-align: right;\">\n",
       "      <th></th>\n",
       "      <th>Type 1</th>\n",
       "      <th>Type 2</th>\n",
       "      <th>Type 3</th>\n",
       "      <th>Type 4</th>\n",
       "      <th>Total Cakes</th>\n",
       "      <th>Total Hours</th>\n",
       "      <th>Delay</th>\n",
       "    </tr>\n",
       "  </thead>\n",
       "  <tbody>\n",
       "    <tr>\n",
       "      <th>0</th>\n",
       "      <td>4</td>\n",
       "      <td>1</td>\n",
       "      <td>2</td>\n",
       "      <td>3</td>\n",
       "      <td>10</td>\n",
       "      <td>8.1</td>\n",
       "      <td>1</td>\n",
       "    </tr>\n",
       "    <tr>\n",
       "      <th>1</th>\n",
       "      <td>3</td>\n",
       "      <td>1</td>\n",
       "      <td>2</td>\n",
       "      <td>2</td>\n",
       "      <td>8</td>\n",
       "      <td>6.7</td>\n",
       "      <td>1</td>\n",
       "    </tr>\n",
       "    <tr>\n",
       "      <th>2</th>\n",
       "      <td>3</td>\n",
       "      <td>0</td>\n",
       "      <td>3</td>\n",
       "      <td>3</td>\n",
       "      <td>9</td>\n",
       "      <td>7.5</td>\n",
       "      <td>0</td>\n",
       "    </tr>\n",
       "    <tr>\n",
       "      <th>3</th>\n",
       "      <td>4</td>\n",
       "      <td>0</td>\n",
       "      <td>1</td>\n",
       "      <td>3</td>\n",
       "      <td>8</td>\n",
       "      <td>4.5</td>\n",
       "      <td>0</td>\n",
       "    </tr>\n",
       "    <tr>\n",
       "      <th>4</th>\n",
       "      <td>2</td>\n",
       "      <td>1</td>\n",
       "      <td>1</td>\n",
       "      <td>2</td>\n",
       "      <td>6</td>\n",
       "      <td>5.0</td>\n",
       "      <td>1</td>\n",
       "    </tr>\n",
       "    <tr>\n",
       "      <th>5</th>\n",
       "      <td>4</td>\n",
       "      <td>3</td>\n",
       "      <td>0</td>\n",
       "      <td>2</td>\n",
       "      <td>9</td>\n",
       "      <td>7.7</td>\n",
       "      <td>0</td>\n",
       "    </tr>\n",
       "    <tr>\n",
       "      <th>6</th>\n",
       "      <td>4</td>\n",
       "      <td>2</td>\n",
       "      <td>2</td>\n",
       "      <td>3</td>\n",
       "      <td>11</td>\n",
       "      <td>10.2</td>\n",
       "      <td>2</td>\n",
       "    </tr>\n",
       "    <tr>\n",
       "      <th>7</th>\n",
       "      <td>4</td>\n",
       "      <td>1</td>\n",
       "      <td>2</td>\n",
       "      <td>3</td>\n",
       "      <td>10</td>\n",
       "      <td>10.4</td>\n",
       "      <td>1</td>\n",
       "    </tr>\n",
       "    <tr>\n",
       "      <th>8</th>\n",
       "      <td>3</td>\n",
       "      <td>2</td>\n",
       "      <td>0</td>\n",
       "      <td>3</td>\n",
       "      <td>8</td>\n",
       "      <td>8.2</td>\n",
       "      <td>0</td>\n",
       "    </tr>\n",
       "    <tr>\n",
       "      <th>9</th>\n",
       "      <td>3</td>\n",
       "      <td>1</td>\n",
       "      <td>0</td>\n",
       "      <td>3</td>\n",
       "      <td>7</td>\n",
       "      <td>4.6</td>\n",
       "      <td>0</td>\n",
       "    </tr>\n",
       "  </tbody>\n",
       "</table>\n",
       "</div>"
      ],
      "text/plain": [
       "   Type 1  Type 2  Type 3  Type 4  Total Cakes  Total Hours  Delay\n",
       "0       4       1       2       3           10          8.1      1\n",
       "1       3       1       2       2            8          6.7      1\n",
       "2       3       0       3       3            9          7.5      0\n",
       "3       4       0       1       3            8          4.5      0\n",
       "4       2       1       1       2            6          5.0      1\n",
       "5       4       3       0       2            9          7.7      0\n",
       "6       4       2       2       3           11         10.2      2\n",
       "7       4       1       2       3           10         10.4      1\n",
       "8       3       2       0       3            8          8.2      0\n",
       "9       3       1       0       3            7          4.6      0"
      ]
     },
     "metadata": {},
     "output_type": "display_data"
    },
    {
     "data": {
      "text/html": [
       "<div>\n",
       "<style scoped>\n",
       "    .dataframe tbody tr th:only-of-type {\n",
       "        vertical-align: middle;\n",
       "    }\n",
       "\n",
       "    .dataframe tbody tr th {\n",
       "        vertical-align: top;\n",
       "    }\n",
       "\n",
       "    .dataframe thead th {\n",
       "        text-align: right;\n",
       "    }\n",
       "</style>\n",
       "<table border=\"1\" class=\"dataframe\">\n",
       "  <thead>\n",
       "    <tr style=\"text-align: right;\">\n",
       "      <th></th>\n",
       "      <th>Type 1</th>\n",
       "      <th>Type 2</th>\n",
       "      <th>Type 3</th>\n",
       "      <th>Type 4</th>\n",
       "      <th>Total Cakes</th>\n",
       "      <th>Total Hours</th>\n",
       "      <th>Delay</th>\n",
       "    </tr>\n",
       "  </thead>\n",
       "  <tbody>\n",
       "    <tr>\n",
       "      <th>count</th>\n",
       "      <td>300.000000</td>\n",
       "      <td>300.000000</td>\n",
       "      <td>300.000000</td>\n",
       "      <td>300.000000</td>\n",
       "      <td>300.000000</td>\n",
       "      <td>300.000000</td>\n",
       "      <td>300.000000</td>\n",
       "    </tr>\n",
       "    <tr>\n",
       "      <th>mean</th>\n",
       "      <td>2.946667</td>\n",
       "      <td>1.166667</td>\n",
       "      <td>1.160000</td>\n",
       "      <td>2.463333</td>\n",
       "      <td>7.736667</td>\n",
       "      <td>6.718333</td>\n",
       "      <td>0.663333</td>\n",
       "    </tr>\n",
       "    <tr>\n",
       "      <th>std</th>\n",
       "      <td>1.006910</td>\n",
       "      <td>0.884021</td>\n",
       "      <td>0.889026</td>\n",
       "      <td>1.154599</td>\n",
       "      <td>1.957916</td>\n",
       "      <td>2.413153</td>\n",
       "      <td>0.666937</td>\n",
       "    </tr>\n",
       "    <tr>\n",
       "      <th>min</th>\n",
       "      <td>1.000000</td>\n",
       "      <td>0.000000</td>\n",
       "      <td>0.000000</td>\n",
       "      <td>0.000000</td>\n",
       "      <td>2.000000</td>\n",
       "      <td>0.500000</td>\n",
       "      <td>0.000000</td>\n",
       "    </tr>\n",
       "    <tr>\n",
       "      <th>25%</th>\n",
       "      <td>2.000000</td>\n",
       "      <td>0.000000</td>\n",
       "      <td>0.000000</td>\n",
       "      <td>2.000000</td>\n",
       "      <td>6.000000</td>\n",
       "      <td>5.075000</td>\n",
       "      <td>0.000000</td>\n",
       "    </tr>\n",
       "    <tr>\n",
       "      <th>50%</th>\n",
       "      <td>3.000000</td>\n",
       "      <td>1.000000</td>\n",
       "      <td>1.000000</td>\n",
       "      <td>3.000000</td>\n",
       "      <td>8.000000</td>\n",
       "      <td>6.700000</td>\n",
       "      <td>1.000000</td>\n",
       "    </tr>\n",
       "    <tr>\n",
       "      <th>75%</th>\n",
       "      <td>4.000000</td>\n",
       "      <td>2.000000</td>\n",
       "      <td>2.000000</td>\n",
       "      <td>3.000000</td>\n",
       "      <td>9.000000</td>\n",
       "      <td>8.200000</td>\n",
       "      <td>1.000000</td>\n",
       "    </tr>\n",
       "    <tr>\n",
       "      <th>max</th>\n",
       "      <td>5.000000</td>\n",
       "      <td>3.000000</td>\n",
       "      <td>3.000000</td>\n",
       "      <td>5.000000</td>\n",
       "      <td>14.000000</td>\n",
       "      <td>14.800000</td>\n",
       "      <td>3.000000</td>\n",
       "    </tr>\n",
       "  </tbody>\n",
       "</table>\n",
       "</div>"
      ],
      "text/plain": [
       "           Type 1      Type 2      Type 3      Type 4  Total Cakes  Total Hours       Delay\n",
       "count  300.000000  300.000000  300.000000  300.000000   300.000000   300.000000  300.000000\n",
       "mean     2.946667    1.166667    1.160000    2.463333     7.736667     6.718333    0.663333\n",
       "std      1.006910    0.884021    0.889026    1.154599     1.957916     2.413153    0.666937\n",
       "min      1.000000    0.000000    0.000000    0.000000     2.000000     0.500000    0.000000\n",
       "25%      2.000000    0.000000    0.000000    2.000000     6.000000     5.075000    0.000000\n",
       "50%      3.000000    1.000000    1.000000    3.000000     8.000000     6.700000    1.000000\n",
       "75%      4.000000    2.000000    2.000000    3.000000     9.000000     8.200000    1.000000\n",
       "max      5.000000    3.000000    3.000000    5.000000    14.000000    14.800000    3.000000"
      ]
     },
     "metadata": {},
     "output_type": "display_data"
    }
   ],
   "source": [
    "# Show Data\n",
    "\n",
    "display(logbook.head(10))\n",
    "display(logbook.describe())"
   ]
  },
  {
   "cell_type": "markdown",
   "metadata": {},
   "source": [
    "## View Data Counts by Value"
   ]
  },
  {
   "cell_type": "code",
   "execution_count": 14,
   "metadata": {},
   "outputs": [
    {
     "data": {
      "image/png": "[encoded data removed]",
      "text/plain": [
       "<Figure size 864x576 with 9 Axes>"
      ]
     },
     "metadata": {},
     "output_type": "display_data"
    }
   ],
   "source": [
    "logbook.hist(figsize=(12,8), bins=20)\n",
    "plt.show()"
   ]
  },
  {
   "cell_type": "markdown",
   "metadata": {},
   "source": [
    "## Check Correlation to Target and Collinearity Between Features"
   ]
  },
  {
   "cell_type": "code",
   "execution_count": 15,
   "metadata": {
    "pycharm": {
     "name": "#%%\n"
    }
   },
   "outputs": [
    {
     "data": {
      "text/plain": [
       "array([[1.        , 0.21925561],\n",
       "       [0.21925561, 1.        ]])"
      ]
     },
     "metadata": {},
     "output_type": "display_data"
    },
    {
     "data": {
      "text/plain": [
       "array([[1.        , 0.48159147],\n",
       "       [0.48159147, 1.        ]])"
      ]
     },
     "metadata": {},
     "output_type": "display_data"
    },
    {
     "data": {
      "text/plain": [
       "array([[1.        , 0.49312376],\n",
       "       [0.49312376, 1.        ]])"
      ]
     },
     "metadata": {},
     "output_type": "display_data"
    },
    {
     "data": {
      "text/plain": [
       "array([[1.       , 0.4193489],\n",
       "       [0.4193489, 1.       ]])"
      ]
     },
     "metadata": {},
     "output_type": "display_data"
    },
    {
     "data": {
      "text/plain": [
       "array([[1.        , 0.65220418],\n",
       "       [0.65220418, 1.        ]])"
      ]
     },
     "metadata": {},
     "output_type": "display_data"
    }
   ],
   "source": [
    "# Check Correlation to Target\n",
    "\n",
    "display(np.corrcoef(logbook['Total Hours'], logbook['Type 1']))\n",
    "display(np.corrcoef(logbook['Total Hours'], logbook['Type 2'])) \n",
    "display(np.corrcoef(logbook['Total Hours'], logbook['Type 3'])) \n",
    "display(np.corrcoef(logbook['Total Hours'], logbook['Type 4']))\n",
    "display(np.corrcoef(logbook['Total Hours'], logbook['Delay']))"
   ]
  },
  {
   "cell_type": "code",
   "execution_count": 16,
   "metadata": {},
   "outputs": [
    {
     "data": {
      "image/png": "[encoded data removed]",
      "text/plain": [
       "<Figure size 1008x1008 with 2 Axes>"
      ]
     },
     "metadata": {},
     "output_type": "display_data"
    }
   ],
   "source": [
    "# Check Features for Colinearity\n",
    "\n",
    "feature_corrs = colinearity_check(feature_names, logbook)"
   ]
  },
  {
   "cell_type": "markdown",
   "metadata": {},
   "source": [
    "## Perform an All-Features All-Data Linear Fit as a Sanity Check"
   ]
  },
  {
   "cell_type": "code",
   "execution_count": 17,
   "metadata": {
    "pycharm": {
     "name": "#%%\n"
    }
   },
   "outputs": [
    {
     "name": "stdout",
     "output_type": "stream",
     "text": [
      "                                 OLS Regression Results                                \n",
      "=======================================================================================\n",
      "Dep. Variable:            Total Hours   R-squared (uncentered):                   0.973\n",
      "Model:                            OLS   Adj. R-squared (uncentered):              0.973\n",
      "Method:                 Least Squares   F-statistic:                              2147.\n",
      "Date:                Fri, 21 May 2021   Prob (F-statistic):                   1.40e-229\n",
      "Time:                        16:05:45   Log-Likelihood:                         -472.09\n",
      "No. Observations:                 300   AIC:                                      954.2\n",
      "Df Residuals:                     295   BIC:                                      972.7\n",
      "Df Model:                           5                                                  \n",
      "Covariance Type:            nonrobust                                                  \n",
      "==============================================================================\n",
      "                 coef    std err          t      P>|t|      [0.025      0.975]\n",
      "------------------------------------------------------------------------------\n",
      "Type 1         0.6093      0.050     12.117      0.000       0.510       0.708\n",
      "Type 2         1.0691      0.098     10.916      0.000       0.876       1.262\n",
      "Type 3         0.9510      0.100      9.507      0.000       0.754       1.148\n",
      "Type 4         0.7849      0.053     14.673      0.000       0.680       0.890\n",
      "Delay          0.9815      0.166      5.900      0.000       0.654       1.309\n",
      "==============================================================================\n",
      "Omnibus:                      183.482   Durbin-Watson:                   1.965\n",
      "Prob(Omnibus):                  0.000   Jarque-Bera (JB):               18.835\n",
      "Skew:                           0.072   Prob(JB):                     8.13e-05\n",
      "Kurtosis:                       1.781   Cond. No.                         12.6\n",
      "==============================================================================\n",
      "\n",
      "Notes:\n",
      "[1] R² is computed without centering (uncentered) since the model does not contain a constant.\n",
      "[2] Standard Errors assume that the covariance matrix of the errors is correctly specified.\n"
     ]
    }
   ],
   "source": [
    "# Check All-Data Model with Rough All-Data All-Vars OLS Model\n",
    "\n",
    "X = logbook[feature_names]\n",
    "X.describe()\n",
    "y = logbook['Total Hours']\n",
    "y.value_counts()\n",
    "lin_model = sm.OLS(y,X)\n",
    "result = lin_model.fit()\n",
    "print(result.summary())"
   ]
  },
  {
   "cell_type": "markdown",
   "metadata": {},
   "source": [
    "## Split the Data into Train and Test Sets"
   ]
  },
  {
   "cell_type": "code",
   "execution_count": 18,
   "metadata": {},
   "outputs": [
    {
     "name": "stdout",
     "output_type": "stream",
     "text": [
      "Training observations: 225 \tTesting observations: 75\n"
     ]
    }
   ],
   "source": [
    "# Split Data into Train, Test Data Sets\n",
    "\n",
    "# Select dataset for analysis\n",
    "X = logbook[feature_names]\n",
    "# display(logbook.head())\n",
    "\n",
    "y = logbook['Total Hours']\n",
    "X_train,X_test,y_train,y_test=train_test_split(X,y,test_size=0.25,random_state=0)\n",
    "\n",
    "# display(y)\n",
    "# print(f'Training set value counts:\\n{y_train.value_counts()}\\n\\nTest set value counts:\\n{y_test.value_counts()}')\n",
    "\n",
    "print(f'Training observations: {y_train.size} \\tTesting observations: {y_test.size}')"
   ]
  },
  {
   "cell_type": "markdown",
   "metadata": {},
   "source": [
    "## Train the Model"
   ]
  },
  {
   "cell_type": "code",
   "execution_count": 19,
   "metadata": {},
   "outputs": [
    {
     "name": "stdout",
     "output_type": "stream",
     "text": [
      "Train score: 0.7640340161261081\n",
      "\n",
      "Test score: 0.7596988523071219\n",
      "\n",
      "Overall model accuracy: 0.7596988523071219\n",
      "\n",
      "Mean Squared Error: 1.3142981843679638\n"
     ]
    }
   ],
   "source": [
    "# Train the Model\n",
    "model = LinearRegression()  # initialize the LinearRegression model\n",
    "\n",
    "model.fit(X_train,y_train)  # we fit the model with the training data\n",
    "\n",
    "#linear_pred = model.predict(X_test)  # make prediction with the fitted model\n",
    "\n",
    "y_pred = model.predict(X_test)  # make prediction with the fitted model\n",
    "\n",
    "# Score the model on the train set\n",
    "print('Train score: {}\\n'.format(model.score(X_train,y_train)))\n",
    "\n",
    "# Score the model on the test set\n",
    "print('Test score: {}\\n'.format(model.score(X_test,y_test)))\n",
    "\n",
    "# Calculate the overall accuracy of the model\n",
    "print('Overall model accuracy: {}\\n'.format(r2_score(y_test,y_pred)))\n",
    "\n",
    "# Compute the mean squared error of the model\n",
    "print('Mean Squared Error: {}'.format(mean_squared_error(y_test,y_pred)))"
   ]
  },
  {
   "cell_type": "code",
   "execution_count": 25,
   "metadata": {},
   "outputs": [
    {
     "data": {
      "text/plain": [
       "pandas.core.series.Series"
      ]
     },
     "execution_count": 25,
     "metadata": {},
     "output_type": "execute_result"
    }
   ],
   "source": [
    "#display(y_train)\n",
    "type(y_train)"
   ]
  },
  {
   "cell_type": "code",
   "execution_count": 26,
   "metadata": {},
   "outputs": [
    {
     "data": {
      "text/plain": [
       "numpy.ndarray"
      ]
     },
     "execution_count": 26,
     "metadata": {},
     "output_type": "execute_result"
    }
   ],
   "source": [
    "type(y_pred)"
   ]
  },
  {
   "cell_type": "code",
   "execution_count": 27,
   "metadata": {},
   "outputs": [
    {
     "data": {
      "text/plain": [
       "259     9.7\n",
       "37      2.4\n",
       "97      7.6\n",
       "191    10.6\n",
       "135     5.2\n",
       "118     6.7\n",
       "160     7.8\n",
       "264     9.1\n",
       "214     4.0\n",
       "238     8.2\n",
       "76      9.3\n",
       "212     5.1\n",
       "225     5.3\n",
       "255     2.3\n",
       "237     3.5\n",
       "282     7.7\n",
       "44      4.0\n",
       "272     5.7\n",
       "189     2.1\n",
       "152     8.9\n",
       "158     7.7\n",
       "101     5.7\n",
       "54      4.2\n",
       "181     6.5\n",
       "18      6.5\n",
       "281     9.0\n",
       "250     7.5\n",
       "126     8.7\n",
       "171     5.5\n",
       "71      5.0\n",
       "227     8.1\n",
       "245     2.1\n",
       "205     7.7\n",
       "288     6.2\n",
       "215     8.4\n",
       "154     6.6\n",
       "159     0.5\n",
       "33      7.2\n",
       "83      2.2\n",
       "249     4.1\n",
       "60      1.6\n",
       "167     4.7\n",
       "280     9.9\n",
       "110     5.0\n",
       "21     10.1\n",
       "29      8.1\n",
       "146     8.2\n",
       "16     14.6\n",
       "56      6.7\n",
       "75      3.9\n",
       "109     6.2\n",
       "175     9.3\n",
       "201     8.1\n",
       "161    11.0\n",
       "4       5.0\n",
       "96      5.9\n",
       "166     3.1\n",
       "61      8.1\n",
       "67      6.4\n",
       "137     4.4\n",
       "198     9.6\n",
       "262     5.6\n",
       "279     7.6\n",
       "40      8.6\n",
       "268     5.3\n",
       "13      5.6\n",
       "107    10.0\n",
       "220     8.7\n",
       "3       4.5\n",
       "157     5.0\n",
       "125     9.2\n",
       "24      6.7\n",
       "30     12.2\n",
       "77      9.1\n",
       "291     6.7\n",
       "210     7.6\n",
       "19     10.2\n",
       "254     9.0\n",
       "241     8.3\n",
       "266     5.1\n",
       "80      7.3\n",
       "51      6.4\n",
       "2       7.5\n",
       "235     5.6\n",
       "104     6.7\n",
       "179     7.4\n",
       "86     10.1\n",
       "10      5.0\n",
       "199     6.6\n",
       "58      7.2\n",
       "41      1.9\n",
       "14      5.0\n",
       "155     8.5\n",
       "50      2.1\n",
       "292     6.7\n",
       "233     6.8\n",
       "123     3.0\n",
       "200     2.5\n",
       "62      6.4\n",
       "187     4.3\n",
       "226     4.8\n",
       "130     5.0\n",
       "209     6.9\n",
       "260     6.4\n",
       "43      5.0\n",
       "114     6.1\n",
       "138     3.0\n",
       "294     3.6\n",
       "218     6.6\n",
       "149     6.7\n",
       "112     9.6\n",
       "247     5.8\n",
       "98      2.9\n",
       "217     8.0\n",
       "93      8.8\n",
       "216     7.3\n",
       "162     7.1\n",
       "36      6.4\n",
       "178    13.2\n",
       "113     4.4\n",
       "0       8.1\n",
       "94      5.9\n",
       "275    10.9\n",
       "95      9.2\n",
       "296     3.9\n",
       "261     5.7\n",
       "240     5.0\n",
       "69     10.2\n",
       "49      6.0\n",
       "48      6.0\n",
       "85      6.2\n",
       "297     9.1\n",
       "141     7.1\n",
       "207     6.6\n",
       "23      3.2\n",
       "246     6.2\n",
       "148     3.5\n",
       "143     4.3\n",
       "78     10.0\n",
       "180     6.2\n",
       "100    10.5\n",
       "204     2.6\n",
       "131    10.9\n",
       "267     7.9\n",
       "298     4.3\n",
       "196     2.9\n",
       "6      10.2\n",
       "68      4.6\n",
       "203     5.0\n",
       "84     10.8\n",
       "170     9.8\n",
       "121     5.5\n",
       "140     9.4\n",
       "256     3.9\n",
       "274     5.8\n",
       "142     7.0\n",
       "257     8.7\n",
       "91      8.1\n",
       "82      3.8\n",
       "283     4.7\n",
       "11      8.2\n",
       "119     6.3\n",
       "102     8.8\n",
       "35      7.3\n",
       "57      5.1\n",
       "169     5.8\n",
       "231     7.2\n",
       "65      6.8\n",
       "1       6.7\n",
       "120     8.9\n",
       "269    11.3\n",
       "186     6.7\n",
       "42      8.0\n",
       "105     5.9\n",
       "132     5.5\n",
       "79      4.1\n",
       "17      7.3\n",
       "263     8.4\n",
       "232     7.4\n",
       "38      8.3\n",
       "133     3.3\n",
       "53     11.5\n",
       "258     5.9\n",
       "128     9.3\n",
       "28      8.2\n",
       "183     8.2\n",
       "163     8.4\n",
       "151     7.5\n",
       "244     7.5\n",
       "202     3.9\n",
       "31      3.4\n",
       "32      1.9\n",
       "127     8.4\n",
       "185    10.4\n",
       "278     7.7\n",
       "271     8.8\n",
       "147     7.0\n",
       "276     4.5\n",
       "177     8.4\n",
       "99      6.3\n",
       "197     5.5\n",
       "243     7.2\n",
       "115     3.2\n",
       "265     2.0\n",
       "72     10.0\n",
       "25      9.3\n",
       "165     7.0\n",
       "287     6.7\n",
       "174     6.1\n",
       "289     6.7\n",
       "39      4.7\n",
       "193     7.3\n",
       "88      5.7\n",
       "70      6.2\n",
       "87      1.5\n",
       "242     7.2\n",
       "277     5.9\n",
       "211     8.8\n",
       "9       4.6\n",
       "195     5.9\n",
       "251    10.9\n",
       "192     4.1\n",
       "117     8.0\n",
       "47      2.3\n",
       "172     6.1\n",
       "Name: Total Hours, dtype: float64"
      ]
     },
     "execution_count": 27,
     "metadata": {},
     "output_type": "execute_result"
    }
   ],
   "source": [
    "y_train"
   ]
  },
  {
   "cell_type": "code",
   "execution_count": null,
   "metadata": {},
   "outputs": [],
   "source": [
    "print"
   ]
  }
 ],
 "metadata": {
  "kernelspec": {
   "display_name": "Python 3",
   "language": "python",
   "name": "python3"
  },
  "language_info": {
   "codemirror_mode": {
    "name": "ipython",
    "version": 3
   },
   "file_extension": ".py",
   "mimetype": "text/x-python",
   "name": "python",
   "nbconvert_exporter": "python",
   "pygments_lexer": "ipython3",
   "version": "3.9.5"
  }
 },
 "nbformat": 4,
 "nbformat_minor": 4
}
